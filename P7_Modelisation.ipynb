{
  "nbformat": 4,
  "nbformat_minor": 0,
  "metadata": {
    "colab": {
      "provenance": [],
      "collapsed_sections": [],
      "authorship_tag": "ABX9TyNHxWdgotlSbxo03dlTOI4M",
      "include_colab_link": true
    },
    "kernelspec": {
      "name": "python3",
      "display_name": "Python 3"
    },
    "language_info": {
      "name": "python"
    },
    "accelerator": "GPU",
    "gpuClass": "standard"
  },
  "cells": [
    {
      "cell_type": "markdown",
      "metadata": {
        "id": "view-in-github",
        "colab_type": "text"
      },
      "source": [
        "<a href=\"https://colab.research.google.com/github/HananeMaghlazi/P7_Scoring/blob/main/P7_EDA.ipynb\" target=\"_parent\"><img src=\"https://colab.research.google.com/assets/colab-badge.svg\" alt=\"Open In Colab\"/></a>"
      ]
    },
    {
      "cell_type": "code",
      "execution_count": 1,
      "metadata": {
        "id": "kxydlhdIp-YH"
      },
      "outputs": [],
      "source": [
        "import pandas as pd\n",
        "import numpy as np\n",
        "import seaborn as sns\n",
        "import matplotlib.pyplot as plt\n",
        "import os, sys, time\n",
        "import fnmatch\n",
        "\n",
        "# Pour les warnings\n",
        "import warnings\n",
        "\n",
        "warnings.filterwarnings(\"ignore\")\n",
        "\n",
        "import logging\n",
        "\n",
        "logging.disable(logging.WARNING)  # disable WARNING, INFO and DEBUG logging everywhere\n",
        "# Pour le ML\n",
        "from sklearn.model_selection import train_test_split\n",
        "from sklearn.linear_model import LogisticRegression\n",
        "from sklearn.metrics import classification_report\n",
        "from sklearn.metrics import confusion_matrix\n",
        "from sklearn.metrics import roc_auc_score, roc_curve\n",
        "from sklearn.metrics import precision_score\n",
        "from sklearn.metrics import recall_score\n",
        "from sklearn.metrics import accuracy_score\n",
        "from sklearn.metrics import f1_score\n",
        "from sklearn.pipeline import Pipeline\n",
        "from sklearn.pipeline import make_pipeline\n",
        "from sklearn.compose import make_column_selector, make_column_transformer\n",
        "from sklearn.compose import ColumnTransformer\n",
        "from sklearn.preprocessing import MinMaxScaler\n",
        "from sklearn.model_selection import GridSearchCV\n",
        "\n",
        "from sklearn.ensemble import RandomForestClassifier\n",
        "from sklearn.ensemble import GradientBoostingClassifier\n",
        "from xgboost import XGBClassifier\n",
        "from pandas import MultiIndex, Int16Dtype\n",
        "from pandas import MultiIndex, Int64Index\n",
        "from lightgbm import LGBMClassifier\n",
        "from imblearn.over_sampling import SMOTE\n",
        "from imblearn.pipeline import Pipeline"
      ]
    },
    {
      "cell_type": "code",
      "source": [
        "\n"
      ],
      "metadata": {
        "colab": {
          "base_uri": "https://localhost:8080/"
        },
        "id": "9qXJU2lwqBY_",
        "outputId": "fe3a60a0-4d4f-4250-891d-a7984050505d"
      },
      "execution_count": 2,
      "outputs": [
        {
          "output_type": "stream",
          "name": "stdout",
          "text": [
            "Mounted at /content/gdrive\n"
          ]
        }
      ]
    },
    {
      "cell_type": "code",
      "source": [
        "from google.colab import drive\n",
        "drive.mount('/content/gdrive')\n",
        "from pydrive.auth import GoogleAuth\n",
        "from pydrive.drive import GoogleDrive\n",
        "from google.colab import auth\n",
        "from oauth2client.client import GoogleCredentials\n",
        " \n",
        " \n",
        "# Authenticate and create the PyDrive client.\n",
        "auth.authenticate_user()\n",
        "gauth = GoogleAuth()\n",
        "gauth.credentials = GoogleCredentials.get_application_default()\n",
        "drive = GoogleDrive(gauth)"
      ],
      "metadata": {
        "id": "SlMSlaqfu5QH"
      },
      "execution_count": 6,
      "outputs": []
    },
    {
      "cell_type": "code",
      "source": [
        "link = 'https://drive.google.com/file/d/1kLKanGI2qrJPCWd5OUgSku9R6AukXocf/view?usp=share_link'\n",
        " \n",
        "\n",
        " \n",
        "# to get the id part of the file\n",
        "id = link.split(\"/\")[-2]\n",
        " \n",
        "downloaded = drive.CreateFile({'id':id})\n",
        "downloaded.GetContentFile('xclara.csv') \n",
        " \n",
        "data = pd.read_csv('xclara.csv')"
      ],
      "metadata": {
        "id": "pVQV8DjmxIkE"
      },
      "execution_count": 7,
      "outputs": []
    },
    {
      "cell_type": "code",
      "source": [
        "data.head()"
      ],
      "metadata": {
        "colab": {
          "base_uri": "https://localhost:8080/",
          "height": 300
        },
        "id": "7CF-A8U23fKn",
        "outputId": "31f40865-58af-4366-e287-12321aac826c"
      },
      "execution_count": 8,
      "outputs": [
        {
          "output_type": "execute_result",
          "data": {
            "text/plain": [
              "   SK_ID_CURR  TARGET  CODE_GENDER  FLAG_OWN_CAR  FLAG_OWN_REALTY  \\\n",
              "0    100002.0     1.0          0.0           0.0              0.0   \n",
              "1    100003.0     0.0          1.0           0.0              1.0   \n",
              "2    100004.0     0.0          0.0           1.0              0.0   \n",
              "3    100006.0     0.0          1.0           0.0              0.0   \n",
              "4    100007.0     0.0          0.0           0.0              0.0   \n",
              "\n",
              "   CNT_CHILDREN  AMT_INCOME_TOTAL  AMT_CREDIT  AMT_ANNUITY  AMT_GOODS_PRICE  \\\n",
              "0           0.0          202500.0    406597.5      24700.5         351000.0   \n",
              "1           0.0          270000.0   1293502.5      35698.5        1129500.0   \n",
              "2           0.0           67500.0    135000.0       6750.0         135000.0   \n",
              "3           0.0          135000.0    312682.5      29686.5         297000.0   \n",
              "4           0.0          121500.0    513000.0      21865.5         513000.0   \n",
              "\n",
              "   ...  CC_NAME_CONTRACT_STATUS_Signed_MAX  \\\n",
              "0  ...                                 0.0   \n",
              "1  ...                                 0.0   \n",
              "2  ...                                 0.0   \n",
              "3  ...                                 0.0   \n",
              "4  ...                                 0.0   \n",
              "\n",
              "   CC_NAME_CONTRACT_STATUS_Signed_MEAN  CC_NAME_CONTRACT_STATUS_Signed_SUM  \\\n",
              "0                                  0.0                                 0.0   \n",
              "1                                  0.0                                 0.0   \n",
              "2                                  0.0                                 0.0   \n",
              "3                                  0.0                                 0.0   \n",
              "4                                  0.0                                 0.0   \n",
              "\n",
              "   CC_NAME_CONTRACT_STATUS_Signed_VAR  CC_NAME_CONTRACT_STATUS_nan_MIN  \\\n",
              "0                                 0.0                              0.0   \n",
              "1                                 0.0                              0.0   \n",
              "2                                 0.0                              0.0   \n",
              "3                                 0.0                              0.0   \n",
              "4                                 0.0                              0.0   \n",
              "\n",
              "   CC_NAME_CONTRACT_STATUS_nan_MAX  CC_NAME_CONTRACT_STATUS_nan_MEAN  \\\n",
              "0                              0.0                               0.0   \n",
              "1                              0.0                               0.0   \n",
              "2                              0.0                               0.0   \n",
              "3                              0.0                               0.0   \n",
              "4                              0.0                               0.0   \n",
              "\n",
              "   CC_NAME_CONTRACT_STATUS_nan_SUM  CC_NAME_CONTRACT_STATUS_nan_VAR  CC_COUNT  \n",
              "0                              0.0                              0.0      22.0  \n",
              "1                              0.0                              0.0      22.0  \n",
              "2                              0.0                              0.0      22.0  \n",
              "3                              0.0                              0.0       6.0  \n",
              "4                              0.0                              0.0      22.0  \n",
              "\n",
              "[5 rows x 790 columns]"
            ],
            "text/html": [
              "\n",
              "  <div id=\"df-f3fc51db-40f9-4d1e-a7dc-48511c714a2a\">\n",
              "    <div class=\"colab-df-container\">\n",
              "      <div>\n",
              "<style scoped>\n",
              "    .dataframe tbody tr th:only-of-type {\n",
              "        vertical-align: middle;\n",
              "    }\n",
              "\n",
              "    .dataframe tbody tr th {\n",
              "        vertical-align: top;\n",
              "    }\n",
              "\n",
              "    .dataframe thead th {\n",
              "        text-align: right;\n",
              "    }\n",
              "</style>\n",
              "<table border=\"1\" class=\"dataframe\">\n",
              "  <thead>\n",
              "    <tr style=\"text-align: right;\">\n",
              "      <th></th>\n",
              "      <th>SK_ID_CURR</th>\n",
              "      <th>TARGET</th>\n",
              "      <th>CODE_GENDER</th>\n",
              "      <th>FLAG_OWN_CAR</th>\n",
              "      <th>FLAG_OWN_REALTY</th>\n",
              "      <th>CNT_CHILDREN</th>\n",
              "      <th>AMT_INCOME_TOTAL</th>\n",
              "      <th>AMT_CREDIT</th>\n",
              "      <th>AMT_ANNUITY</th>\n",
              "      <th>AMT_GOODS_PRICE</th>\n",
              "      <th>...</th>\n",
              "      <th>CC_NAME_CONTRACT_STATUS_Signed_MAX</th>\n",
              "      <th>CC_NAME_CONTRACT_STATUS_Signed_MEAN</th>\n",
              "      <th>CC_NAME_CONTRACT_STATUS_Signed_SUM</th>\n",
              "      <th>CC_NAME_CONTRACT_STATUS_Signed_VAR</th>\n",
              "      <th>CC_NAME_CONTRACT_STATUS_nan_MIN</th>\n",
              "      <th>CC_NAME_CONTRACT_STATUS_nan_MAX</th>\n",
              "      <th>CC_NAME_CONTRACT_STATUS_nan_MEAN</th>\n",
              "      <th>CC_NAME_CONTRACT_STATUS_nan_SUM</th>\n",
              "      <th>CC_NAME_CONTRACT_STATUS_nan_VAR</th>\n",
              "      <th>CC_COUNT</th>\n",
              "    </tr>\n",
              "  </thead>\n",
              "  <tbody>\n",
              "    <tr>\n",
              "      <th>0</th>\n",
              "      <td>100002.0</td>\n",
              "      <td>1.0</td>\n",
              "      <td>0.0</td>\n",
              "      <td>0.0</td>\n",
              "      <td>0.0</td>\n",
              "      <td>0.0</td>\n",
              "      <td>202500.0</td>\n",
              "      <td>406597.5</td>\n",
              "      <td>24700.5</td>\n",
              "      <td>351000.0</td>\n",
              "      <td>...</td>\n",
              "      <td>0.0</td>\n",
              "      <td>0.0</td>\n",
              "      <td>0.0</td>\n",
              "      <td>0.0</td>\n",
              "      <td>0.0</td>\n",
              "      <td>0.0</td>\n",
              "      <td>0.0</td>\n",
              "      <td>0.0</td>\n",
              "      <td>0.0</td>\n",
              "      <td>22.0</td>\n",
              "    </tr>\n",
              "    <tr>\n",
              "      <th>1</th>\n",
              "      <td>100003.0</td>\n",
              "      <td>0.0</td>\n",
              "      <td>1.0</td>\n",
              "      <td>0.0</td>\n",
              "      <td>1.0</td>\n",
              "      <td>0.0</td>\n",
              "      <td>270000.0</td>\n",
              "      <td>1293502.5</td>\n",
              "      <td>35698.5</td>\n",
              "      <td>1129500.0</td>\n",
              "      <td>...</td>\n",
              "      <td>0.0</td>\n",
              "      <td>0.0</td>\n",
              "      <td>0.0</td>\n",
              "      <td>0.0</td>\n",
              "      <td>0.0</td>\n",
              "      <td>0.0</td>\n",
              "      <td>0.0</td>\n",
              "      <td>0.0</td>\n",
              "      <td>0.0</td>\n",
              "      <td>22.0</td>\n",
              "    </tr>\n",
              "    <tr>\n",
              "      <th>2</th>\n",
              "      <td>100004.0</td>\n",
              "      <td>0.0</td>\n",
              "      <td>0.0</td>\n",
              "      <td>1.0</td>\n",
              "      <td>0.0</td>\n",
              "      <td>0.0</td>\n",
              "      <td>67500.0</td>\n",
              "      <td>135000.0</td>\n",
              "      <td>6750.0</td>\n",
              "      <td>135000.0</td>\n",
              "      <td>...</td>\n",
              "      <td>0.0</td>\n",
              "      <td>0.0</td>\n",
              "      <td>0.0</td>\n",
              "      <td>0.0</td>\n",
              "      <td>0.0</td>\n",
              "      <td>0.0</td>\n",
              "      <td>0.0</td>\n",
              "      <td>0.0</td>\n",
              "      <td>0.0</td>\n",
              "      <td>22.0</td>\n",
              "    </tr>\n",
              "    <tr>\n",
              "      <th>3</th>\n",
              "      <td>100006.0</td>\n",
              "      <td>0.0</td>\n",
              "      <td>1.0</td>\n",
              "      <td>0.0</td>\n",
              "      <td>0.0</td>\n",
              "      <td>0.0</td>\n",
              "      <td>135000.0</td>\n",
              "      <td>312682.5</td>\n",
              "      <td>29686.5</td>\n",
              "      <td>297000.0</td>\n",
              "      <td>...</td>\n",
              "      <td>0.0</td>\n",
              "      <td>0.0</td>\n",
              "      <td>0.0</td>\n",
              "      <td>0.0</td>\n",
              "      <td>0.0</td>\n",
              "      <td>0.0</td>\n",
              "      <td>0.0</td>\n",
              "      <td>0.0</td>\n",
              "      <td>0.0</td>\n",
              "      <td>6.0</td>\n",
              "    </tr>\n",
              "    <tr>\n",
              "      <th>4</th>\n",
              "      <td>100007.0</td>\n",
              "      <td>0.0</td>\n",
              "      <td>0.0</td>\n",
              "      <td>0.0</td>\n",
              "      <td>0.0</td>\n",
              "      <td>0.0</td>\n",
              "      <td>121500.0</td>\n",
              "      <td>513000.0</td>\n",
              "      <td>21865.5</td>\n",
              "      <td>513000.0</td>\n",
              "      <td>...</td>\n",
              "      <td>0.0</td>\n",
              "      <td>0.0</td>\n",
              "      <td>0.0</td>\n",
              "      <td>0.0</td>\n",
              "      <td>0.0</td>\n",
              "      <td>0.0</td>\n",
              "      <td>0.0</td>\n",
              "      <td>0.0</td>\n",
              "      <td>0.0</td>\n",
              "      <td>22.0</td>\n",
              "    </tr>\n",
              "  </tbody>\n",
              "</table>\n",
              "<p>5 rows × 790 columns</p>\n",
              "</div>\n",
              "      <button class=\"colab-df-convert\" onclick=\"convertToInteractive('df-f3fc51db-40f9-4d1e-a7dc-48511c714a2a')\"\n",
              "              title=\"Convert this dataframe to an interactive table.\"\n",
              "              style=\"display:none;\">\n",
              "        \n",
              "  <svg xmlns=\"http://www.w3.org/2000/svg\" height=\"24px\"viewBox=\"0 0 24 24\"\n",
              "       width=\"24px\">\n",
              "    <path d=\"M0 0h24v24H0V0z\" fill=\"none\"/>\n",
              "    <path d=\"M18.56 5.44l.94 2.06.94-2.06 2.06-.94-2.06-.94-.94-2.06-.94 2.06-2.06.94zm-11 1L8.5 8.5l.94-2.06 2.06-.94-2.06-.94L8.5 2.5l-.94 2.06-2.06.94zm10 10l.94 2.06.94-2.06 2.06-.94-2.06-.94-.94-2.06-.94 2.06-2.06.94z\"/><path d=\"M17.41 7.96l-1.37-1.37c-.4-.4-.92-.59-1.43-.59-.52 0-1.04.2-1.43.59L10.3 9.45l-7.72 7.72c-.78.78-.78 2.05 0 2.83L4 21.41c.39.39.9.59 1.41.59.51 0 1.02-.2 1.41-.59l7.78-7.78 2.81-2.81c.8-.78.8-2.07 0-2.86zM5.41 20L4 18.59l7.72-7.72 1.47 1.35L5.41 20z\"/>\n",
              "  </svg>\n",
              "      </button>\n",
              "      \n",
              "  <style>\n",
              "    .colab-df-container {\n",
              "      display:flex;\n",
              "      flex-wrap:wrap;\n",
              "      gap: 12px;\n",
              "    }\n",
              "\n",
              "    .colab-df-convert {\n",
              "      background-color: #E8F0FE;\n",
              "      border: none;\n",
              "      border-radius: 50%;\n",
              "      cursor: pointer;\n",
              "      display: none;\n",
              "      fill: #1967D2;\n",
              "      height: 32px;\n",
              "      padding: 0 0 0 0;\n",
              "      width: 32px;\n",
              "    }\n",
              "\n",
              "    .colab-df-convert:hover {\n",
              "      background-color: #E2EBFA;\n",
              "      box-shadow: 0px 1px 2px rgba(60, 64, 67, 0.3), 0px 1px 3px 1px rgba(60, 64, 67, 0.15);\n",
              "      fill: #174EA6;\n",
              "    }\n",
              "\n",
              "    [theme=dark] .colab-df-convert {\n",
              "      background-color: #3B4455;\n",
              "      fill: #D2E3FC;\n",
              "    }\n",
              "\n",
              "    [theme=dark] .colab-df-convert:hover {\n",
              "      background-color: #434B5C;\n",
              "      box-shadow: 0px 1px 3px 1px rgba(0, 0, 0, 0.15);\n",
              "      filter: drop-shadow(0px 1px 2px rgba(0, 0, 0, 0.3));\n",
              "      fill: #FFFFFF;\n",
              "    }\n",
              "  </style>\n",
              "\n",
              "      <script>\n",
              "        const buttonEl =\n",
              "          document.querySelector('#df-f3fc51db-40f9-4d1e-a7dc-48511c714a2a button.colab-df-convert');\n",
              "        buttonEl.style.display =\n",
              "          google.colab.kernel.accessAllowed ? 'block' : 'none';\n",
              "\n",
              "        async function convertToInteractive(key) {\n",
              "          const element = document.querySelector('#df-f3fc51db-40f9-4d1e-a7dc-48511c714a2a');\n",
              "          const dataTable =\n",
              "            await google.colab.kernel.invokeFunction('convertToInteractive',\n",
              "                                                     [key], {});\n",
              "          if (!dataTable) return;\n",
              "\n",
              "          const docLinkHtml = 'Like what you see? Visit the ' +\n",
              "            '<a target=\"_blank\" href=https://colab.research.google.com/notebooks/data_table.ipynb>data table notebook</a>'\n",
              "            + ' to learn more about interactive tables.';\n",
              "          element.innerHTML = '';\n",
              "          dataTable['output_type'] = 'display_data';\n",
              "          await google.colab.output.renderOutput(dataTable, element);\n",
              "          const docLink = document.createElement('div');\n",
              "          docLink.innerHTML = docLinkHtml;\n",
              "          element.appendChild(docLink);\n",
              "        }\n",
              "      </script>\n",
              "    </div>\n",
              "  </div>\n",
              "  "
            ]
          },
          "metadata": {},
          "execution_count": 8
        }
      ]
    },
    {
      "cell_type": "code",
      "source": [
        "data.shape"
      ],
      "metadata": {
        "colab": {
          "base_uri": "https://localhost:8080/"
        },
        "id": "mszDE_U53zxh",
        "outputId": "a0669fdd-35fe-48f7-8ea2-c556d2289463"
      },
      "execution_count": 9,
      "outputs": [
        {
          "output_type": "execute_result",
          "data": {
            "text/plain": [
              "(307507, 790)"
            ]
          },
          "metadata": {},
          "execution_count": 9
        }
      ]
    },
    {
      "cell_type": "code",
      "source": [
        "# J'extrais un échantillon 1 % :\n",
        "data_sample = data.sample(frac=0.01).round(3)\n",
        "data_sample.shape"
      ],
      "metadata": {
        "id": "e0FmOI-151wc",
        "colab": {
          "base_uri": "https://localhost:8080/"
        },
        "outputId": "ff58776f-da2d-4e90-9c53-c77fdfc979e2"
      },
      "execution_count": 10,
      "outputs": [
        {
          "output_type": "execute_result",
          "data": {
            "text/plain": [
              "(3075, 790)"
            ]
          },
          "metadata": {},
          "execution_count": 10
        }
      ]
    },
    {
      "cell_type": "code",
      "source": [
        "data_sample.TARGET.value_counts(normalize=\"True\")"
      ],
      "metadata": {
        "colab": {
          "base_uri": "https://localhost:8080/"
        },
        "id": "RKZvcpTj6dJH",
        "outputId": "a8e932e0-16c9-4026-d65b-e612d2fb9463"
      },
      "execution_count": 11,
      "outputs": [
        {
          "output_type": "execute_result",
          "data": {
            "text/plain": [
              "0.0    0.913821\n",
              "1.0    0.086179\n",
              "Name: TARGET, dtype: float64"
            ]
          },
          "metadata": {},
          "execution_count": 11
        }
      ]
    },
    {
      "cell_type": "code",
      "source": [
        "data_sample.TARGET.value_counts()"
      ],
      "metadata": {
        "id": "4jeuH6a349xO",
        "colab": {
          "base_uri": "https://localhost:8080/"
        },
        "outputId": "28731a60-e6f3-4980-e370-ff8a7905523e"
      },
      "execution_count": 12,
      "outputs": [
        {
          "output_type": "execute_result",
          "data": {
            "text/plain": [
              "0.0    2810\n",
              "1.0     265\n",
              "Name: TARGET, dtype: int64"
            ]
          },
          "metadata": {},
          "execution_count": 12
        }
      ]
    },
    {
      "cell_type": "code",
      "source": [
        "# Les features\n",
        "X = data_sample.drop([\"TARGET\", \"SK_ID_CURR\"], axis=1)\n",
        "# La target\n",
        "Y = data_sample[[\"TARGET\"]]\n",
        "# Division du dataset\n",
        "X_train, X_test, y_train, y_test = train_test_split(\n",
        "    X, Y, train_size=0.8, stratify=Y, random_state=42\n",
        ")\n",
        "print(\"shape of original dataset :\", data_sample.shape)\n",
        "print(\"shape of input - training set\", X_train.shape)\n",
        "print(\"shape of output - training set\", y_train.shape)\n",
        "print(\"shape of input - testing set\", X_test.shape)\n",
        "print(\"shape of output - testing set\", y_test.shape)"
      ],
      "metadata": {
        "colab": {
          "base_uri": "https://localhost:8080/"
        },
        "id": "3u6BWvRFC_CE",
        "outputId": "e1bd7a34-83b7-479d-ac82-e5a24fa1b153"
      },
      "execution_count": 13,
      "outputs": [
        {
          "output_type": "stream",
          "name": "stdout",
          "text": [
            "shape of original dataset : (3075, 790)\n",
            "shape of input - training set (2460, 788)\n",
            "shape of output - training set (2460, 1)\n",
            "shape of input - testing set (615, 788)\n",
            "shape of output - testing set (615, 1)\n"
          ]
        }
      ]
    },
    {
      "cell_type": "code",
      "source": [
        "print(\"Classe 1, sans SMOTE \", (y_train == 1).sum())\n",
        "print(\"Classe 0, sans SMOTE:\", (y_train == 0).sum())"
      ],
      "metadata": {
        "colab": {
          "base_uri": "https://localhost:8080/"
        },
        "id": "olq2oFYCDDYT",
        "outputId": "5e642e51-0feb-45a8-8db3-090e360cbb69"
      },
      "execution_count": 14,
      "outputs": [
        {
          "output_type": "stream",
          "name": "stdout",
          "text": [
            "Classe 1, sans SMOTE  TARGET    212\n",
            "dtype: int64\n",
            "Classe 0, sans SMOTE: TARGET    2248\n",
            "dtype: int64\n"
          ]
        }
      ]
    },
    {
      "cell_type": "code",
      "source": [
        "lr = make_pipeline(MinMaxScaler(), LogisticRegression(random_state=42))\n",
        "lr"
      ],
      "metadata": {
        "colab": {
          "base_uri": "https://localhost:8080/"
        },
        "id": "V_bsvueeDGnG",
        "outputId": "a912c6c4-46db-4e60-98d6-a16259342b55"
      },
      "execution_count": 15,
      "outputs": [
        {
          "output_type": "execute_result",
          "data": {
            "text/plain": [
              "Pipeline(steps=[('minmaxscaler', MinMaxScaler()),\n",
              "                ('logisticregression', LogisticRegression(random_state=42))])"
            ]
          },
          "metadata": {},
          "execution_count": 15
        }
      ]
    },
    {
      "cell_type": "code",
      "source": [
        "# Fonction qui va entrainer le modèle,prédire et évaluer l'ensemble des modèles\n",
        "def evaluation(model):\n",
        "    model.fit(X_train, y_train)\n",
        "    y_pred = model.predict(X_test)\n",
        "    y_true = y_test\n",
        "    print(classification_report(y_true, y_pred))\n",
        "    y_pred_proba = model.predict_proba(X_test)[:, 1]\n",
        "    roc_auc = roc_auc_score(y_test, y_pred_proba)\n",
        "    print(\"AUC : %0.4f\" % roc_auc)\n",
        "\n",
        "    fig = plt.figure(figsize=(20, 15))\n",
        "\n",
        "    plt.subplot(221)\n",
        "    cf_matrix = confusion_matrix(y_true, y_pred)\n",
        "    group_names = [\"True Neg\", \"False Pos\", \"False Neg\", \"True Pos\"]\n",
        "    group_counts = [\"{0:0.0f}\".format(value) for value in cf_matrix.flatten()]\n",
        "    group_percentages = [\n",
        "        \"{0:.2%}\".format(value) for value in cf_matrix.flatten() / np.sum(cf_matrix)\n",
        "    ]\n",
        "    labels = [\n",
        "        f\"{v1}\\n{v2}\\n{v3}\"\n",
        "        for v1, v2, v3 in zip(group_names, group_counts, group_percentages)\n",
        "    ]\n",
        "    labels = np.asarray(labels).reshape(2, 2)\n",
        "    sns.heatmap(cf_matrix, annot=labels, fmt=\"\", cmap=\"Blues\")\n",
        "\n",
        "    plt.subplot(222)\n",
        "\n",
        "    fper, tper, thresholds = roc_curve(y_true, y_pred_proba)\n",
        "    plt.plot(fper, tper, color=\"red\", label=\"AUC = %0.4f\" % roc_auc)\n",
        "    plt.plot([0, 1], [0, 1], color=\"green\", linestyle=\"--\")\n",
        "    plt.xlabel(\"False Positive Rate\")\n",
        "    plt.ylabel(\"True Positive Rate\")\n",
        "    plt.title(\"Receiver Operating Characteristic Curve\")\n",
        "    plt.legend()\n",
        "    plt.show()"
      ],
      "metadata": {
        "id": "D341sCS0DKXU"
      },
      "execution_count": 16,
      "outputs": []
    },
    {
      "cell_type": "code",
      "source": [
        "evaluation(lr)"
      ],
      "metadata": {
        "colab": {
          "base_uri": "https://localhost:8080/",
          "height": 628
        },
        "id": "zrT_tAWFDNu1",
        "outputId": "44a4f778-6124-47c6-ba26-450b767c9cd6"
      },
      "execution_count": 17,
      "outputs": [
        {
          "output_type": "stream",
          "name": "stdout",
          "text": [
            "              precision    recall  f1-score   support\n",
            "\n",
            "         0.0       0.92      0.99      0.95       562\n",
            "         1.0       0.33      0.06      0.10        53\n",
            "\n",
            "    accuracy                           0.91       615\n",
            "   macro avg       0.63      0.52      0.52       615\n",
            "weighted avg       0.87      0.91      0.88       615\n",
            "\n",
            "AUC : 0.6981\n"
          ]
        },
        {
          "output_type": "display_data",
          "data": {
            "text/plain": [
              "<Figure size 1440x1080 with 3 Axes>"
            ],
            "image/png": "[encoded data removed]"
          },
          "metadata": {
            "needs_background": "light"
          }
        }
      ]
    },
    {
      "cell_type": "markdown",
      "source": [
        "XGBClassifier :"
      ],
      "metadata": {
        "id": "zqbUQE70DcGW"
      }
    },
    {
      "cell_type": "code",
      "source": [
        "xgb = make_pipeline(MinMaxScaler(), XGBClassifier(random_state=42))\n",
        "xgb"
      ],
      "metadata": {
        "colab": {
          "base_uri": "https://localhost:8080/"
        },
        "id": "VudZ040fDQhY",
        "outputId": "7bf2749a-4917-4107-9f68-da3197f443bc"
      },
      "execution_count": 18,
      "outputs": [
        {
          "output_type": "execute_result",
          "data": {
            "text/plain": [
              "Pipeline(steps=[('minmaxscaler', MinMaxScaler()),\n",
              "                ('xgbclassifier', XGBClassifier(random_state=42))])"
            ]
          },
          "metadata": {},
          "execution_count": 18
        }
      ]
    },
    {
      "cell_type": "markdown",
      "source": [
        "GradientBoosting : "
      ],
      "metadata": {
        "id": "i3y89OTdDaJb"
      }
    },
    {
      "cell_type": "code",
      "source": [
        "grb = make_pipeline(MinMaxScaler(), GradientBoostingClassifier(random_state=42))\n",
        "grb"
      ],
      "metadata": {
        "colab": {
          "base_uri": "https://localhost:8080/"
        },
        "id": "NKVqpIZoDj2d",
        "outputId": "aa4d7bbc-cd63-4ff9-dbdd-0e1db413c7f9"
      },
      "execution_count": 19,
      "outputs": [
        {
          "output_type": "execute_result",
          "data": {
            "text/plain": [
              "Pipeline(steps=[('minmaxscaler', MinMaxScaler()),\n",
              "                ('gradientboostingclassifier',\n",
              "                 GradientBoostingClassifier(random_state=42))])"
            ]
          },
          "metadata": {},
          "execution_count": 19
        }
      ]
    },
    {
      "cell_type": "markdown",
      "source": [
        "LGBMClassifier :"
      ],
      "metadata": {
        "id": "pRHxoo4FDpnL"
      }
    },
    {
      "cell_type": "code",
      "source": [
        "lgt = make_pipeline(MinMaxScaler(), LGBMClassifier(random_state=42))\n",
        "lgt"
      ],
      "metadata": {
        "colab": {
          "base_uri": "https://localhost:8080/"
        },
        "id": "6MjVWONCDkV8",
        "outputId": "3d2e36ec-668c-4b34-8005-e10728c478d9"
      },
      "execution_count": 20,
      "outputs": [
        {
          "output_type": "execute_result",
          "data": {
            "text/plain": [
              "Pipeline(steps=[('minmaxscaler', MinMaxScaler()),\n",
              "                ('lgbmclassifier', LGBMClassifier(random_state=42))])"
            ]
          },
          "metadata": {},
          "execution_count": 20
        }
      ]
    },
    {
      "cell_type": "code",
      "source": [
        "model_pipeline = {\n",
        "    \n",
        "    \"Gradientboosting\": grb,\n",
        "    \"Xgbregressor\": xgb,\n",
        "    \"LightGBM\": lgt,\n",
        "}"
      ],
      "metadata": {
        "id": "-T_6df7QDw4g"
      },
      "execution_count": 21,
      "outputs": []
    },
    {
      "cell_type": "code",
      "source": [
        "def metrics_models(model_pipeline):\n",
        "    \n",
        "    results = []\n",
        "    cm_list = []\n",
        "    for model_pipeline_name, model in model_pipeline.items():\n",
        "        model.fit(X_train, y_train.values.ravel())\n",
        "        auc = roc_auc_score(y_test, model.predict_proba(X_test)[:, 1])\n",
        "        accuracy = accuracy_score(y_test, model.predict(X_test))\n",
        "        precision = precision_score(y_test, model.predict(X_test))\n",
        "        recall = recall_score(y_test, model.predict(X_test))\n",
        "        f1 = f1_score(y_test, model.predict(X_test))\n",
        "        cm_list.append(confusion_matrix(y_test, model.predict(X_test)))\n",
        "\n",
        "        results.append([model_pipeline_name, auc, accuracy, precision, recall, f1])\n",
        "        df = pd.DataFrame(\n",
        "            results, columns=[\"Models\", \"Auc\", \"Accuracy\", \"Precision\", \"Recall\", \"F1\"]\n",
        "        )\n",
        "    return df, cm_list"
      ],
      "metadata": {
        "id": "rUhuUSltD3O_"
      },
      "execution_count": 22,
      "outputs": []
    },
    {
      "cell_type": "code",
      "source": [
        "df_results, cm_list = metrics_models(model_pipeline)"
      ],
      "metadata": {
        "id": "0MYHAziaD6E0"
      },
      "execution_count": 23,
      "outputs": []
    },
    {
      "cell_type": "code",
      "source": [
        "df_results"
      ],
      "metadata": {
        "colab": {
          "base_uri": "https://localhost:8080/",
          "height": 143
        },
        "id": "kxrkWvzqD9TI",
        "outputId": "05f2e77b-e071-409c-f144-a26a17d46ba2"
      },
      "execution_count": 24,
      "outputs": [
        {
          "output_type": "execute_result",
          "data": {
            "text/plain": [
              "             Models       Auc  Accuracy  Precision    Recall        F1\n",
              "0  Gradientboosting  0.705768  0.912195   0.333333  0.018868  0.035714\n",
              "1      Xgbregressor  0.704391  0.910569   0.000000  0.000000  0.000000\n",
              "2          LightGBM  0.692809  0.908943   0.000000  0.000000  0.000000"
            ],
            "text/html": [
              "\n",
              "  <div id=\"df-9a8d2930-dd1a-4550-8f89-863b82573c1a\">\n",
              "    <div class=\"colab-df-container\">\n",
              "      <div>\n",
              "<style scoped>\n",
              "    .dataframe tbody tr th:only-of-type {\n",
              "        vertical-align: middle;\n",
              "    }\n",
              "\n",
              "    .dataframe tbody tr th {\n",
              "        vertical-align: top;\n",
              "    }\n",
              "\n",
              "    .dataframe thead th {\n",
              "        text-align: right;\n",
              "    }\n",
              "</style>\n",
              "<table border=\"1\" class=\"dataframe\">\n",
              "  <thead>\n",
              "    <tr style=\"text-align: right;\">\n",
              "      <th></th>\n",
              "      <th>Models</th>\n",
              "      <th>Auc</th>\n",
              "      <th>Accuracy</th>\n",
              "      <th>Precision</th>\n",
              "      <th>Recall</th>\n",
              "      <th>F1</th>\n",
              "    </tr>\n",
              "  </thead>\n",
              "  <tbody>\n",
              "    <tr>\n",
              "      <th>0</th>\n",
              "      <td>Gradientboosting</td>\n",
              "      <td>0.705768</td>\n",
              "      <td>0.912195</td>\n",
              "      <td>0.333333</td>\n",
              "      <td>0.018868</td>\n",
              "      <td>0.035714</td>\n",
              "    </tr>\n",
              "    <tr>\n",
              "      <th>1</th>\n",
              "      <td>Xgbregressor</td>\n",
              "      <td>0.704391</td>\n",
              "      <td>0.910569</td>\n",
              "      <td>0.000000</td>\n",
              "      <td>0.000000</td>\n",
              "      <td>0.000000</td>\n",
              "    </tr>\n",
              "    <tr>\n",
              "      <th>2</th>\n",
              "      <td>LightGBM</td>\n",
              "      <td>0.692809</td>\n",
              "      <td>0.908943</td>\n",
              "      <td>0.000000</td>\n",
              "      <td>0.000000</td>\n",
              "      <td>0.000000</td>\n",
              "    </tr>\n",
              "  </tbody>\n",
              "</table>\n",
              "</div>\n",
              "      <button class=\"colab-df-convert\" onclick=\"convertToInteractive('df-9a8d2930-dd1a-4550-8f89-863b82573c1a')\"\n",
              "              title=\"Convert this dataframe to an interactive table.\"\n",
              "              style=\"display:none;\">\n",
              "        \n",
              "  <svg xmlns=\"http://www.w3.org/2000/svg\" height=\"24px\"viewBox=\"0 0 24 24\"\n",
              "       width=\"24px\">\n",
              "    <path d=\"M0 0h24v24H0V0z\" fill=\"none\"/>\n",
              "    <path d=\"M18.56 5.44l.94 2.06.94-2.06 2.06-.94-2.06-.94-.94-2.06-.94 2.06-2.06.94zm-11 1L8.5 8.5l.94-2.06 2.06-.94-2.06-.94L8.5 2.5l-.94 2.06-2.06.94zm10 10l.94 2.06.94-2.06 2.06-.94-2.06-.94-.94-2.06-.94 2.06-2.06.94z\"/><path d=\"M17.41 7.96l-1.37-1.37c-.4-.4-.92-.59-1.43-.59-.52 0-1.04.2-1.43.59L10.3 9.45l-7.72 7.72c-.78.78-.78 2.05 0 2.83L4 21.41c.39.39.9.59 1.41.59.51 0 1.02-.2 1.41-.59l7.78-7.78 2.81-2.81c.8-.78.8-2.07 0-2.86zM5.41 20L4 18.59l7.72-7.72 1.47 1.35L5.41 20z\"/>\n",
              "  </svg>\n",
              "      </button>\n",
              "      \n",
              "  <style>\n",
              "    .colab-df-container {\n",
              "      display:flex;\n",
              "      flex-wrap:wrap;\n",
              "      gap: 12px;\n",
              "    }\n",
              "\n",
              "    .colab-df-convert {\n",
              "      background-color: #E8F0FE;\n",
              "      border: none;\n",
              "      border-radius: 50%;\n",
              "      cursor: pointer;\n",
              "      display: none;\n",
              "      fill: #1967D2;\n",
              "      height: 32px;\n",
              "      padding: 0 0 0 0;\n",
              "      width: 32px;\n",
              "    }\n",
              "\n",
              "    .colab-df-convert:hover {\n",
              "      background-color: #E2EBFA;\n",
              "      box-shadow: 0px 1px 2px rgba(60, 64, 67, 0.3), 0px 1px 3px 1px rgba(60, 64, 67, 0.15);\n",
              "      fill: #174EA6;\n",
              "    }\n",
              "\n",
              "    [theme=dark] .colab-df-convert {\n",
              "      background-color: #3B4455;\n",
              "      fill: #D2E3FC;\n",
              "    }\n",
              "\n",
              "    [theme=dark] .colab-df-convert:hover {\n",
              "      background-color: #434B5C;\n",
              "      box-shadow: 0px 1px 3px 1px rgba(0, 0, 0, 0.15);\n",
              "      filter: drop-shadow(0px 1px 2px rgba(0, 0, 0, 0.3));\n",
              "      fill: #FFFFFF;\n",
              "    }\n",
              "  </style>\n",
              "\n",
              "      <script>\n",
              "        const buttonEl =\n",
              "          document.querySelector('#df-9a8d2930-dd1a-4550-8f89-863b82573c1a button.colab-df-convert');\n",
              "        buttonEl.style.display =\n",
              "          google.colab.kernel.accessAllowed ? 'block' : 'none';\n",
              "\n",
              "        async function convertToInteractive(key) {\n",
              "          const element = document.querySelector('#df-9a8d2930-dd1a-4550-8f89-863b82573c1a');\n",
              "          const dataTable =\n",
              "            await google.colab.kernel.invokeFunction('convertToInteractive',\n",
              "                                                     [key], {});\n",
              "          if (!dataTable) return;\n",
              "\n",
              "          const docLinkHtml = 'Like what you see? Visit the ' +\n",
              "            '<a target=\"_blank\" href=https://colab.research.google.com/notebooks/data_table.ipynb>data table notebook</a>'\n",
              "            + ' to learn more about interactive tables.';\n",
              "          element.innerHTML = '';\n",
              "          dataTable['output_type'] = 'display_data';\n",
              "          await google.colab.output.renderOutput(dataTable, element);\n",
              "          const docLink = document.createElement('div');\n",
              "          docLink.innerHTML = docLinkHtml;\n",
              "          element.appendChild(docLink);\n",
              "        }\n",
              "      </script>\n",
              "    </div>\n",
              "  </div>\n",
              "  "
            ]
          },
          "metadata": {},
          "execution_count": 24
        }
      ]
    },
    {
      "cell_type": "code",
      "source": [
        "list_models = [\n",
        "    \n",
        "    \n",
        "    \"Gradientboosting\",\n",
        "    \"Xgbregressor\",\n",
        "    \"LightGBM\",\n",
        "]\n",
        "# Visualisation des matrices de confusion\n",
        "fig = plt.figure(figsize=(20, 15))\n",
        "\n",
        "for i in range(len(cm_list)):\n",
        "    model = list_models[i]\n",
        "    cm = cm_list[i]\n",
        "    sub = fig.add_subplot(2, 2, i + 1).set_title(model)\n",
        "    group_names = [\"True Neg\", \"False Pos\", \"False Neg\", \"True Pos\"]\n",
        "    group_counts = [\"{0:0.0f}\".format(value) for value in cm.flatten()]\n",
        "    group_percentages = [\"{0:.2%}\".format(value) for value in cm.flatten() / np.sum(cm)]\n",
        "    labels = [\n",
        "        f\"{v1}\\n{v2}\\n{v3}\"\n",
        "        for v1, v2, v3 in zip(group_names, group_counts, group_percentages)\n",
        "    ]\n",
        "    labels = np.asarray(labels).reshape(2, 2)\n",
        "    cm_plot = sns.heatmap(cm, fmt=\"\", annot=labels, cmap=\"Blues\")\n",
        "    cm_plot.set_xlabel(\"Predicted values\")\n",
        "    cm_plot.set_ylabel(\"Actual values\")"
      ],
      "metadata": {
        "colab": {
          "base_uri": "https://localhost:8080/",
          "height": 893
        },
        "id": "vtUY7eXuEEqc",
        "outputId": "7273b04d-ca1b-41e6-a457-f2e21981b58a"
      },
      "execution_count": 25,
      "outputs": [
        {
          "output_type": "display_data",
          "data": {
            "text/plain": [
              "<Figure size 1440x1080 with 6 Axes>"
            ],
            "image/png": "[encoded data removed]"
          },
          "metadata": {
            "needs_background": "light"
          }
        }
      ]
    },
    {
      "cell_type": "code",
      "source": [],
      "metadata": {
        "id": "BZ00Y53_EM68"
      },
      "execution_count": null,
      "outputs": []
    }
  ]
}